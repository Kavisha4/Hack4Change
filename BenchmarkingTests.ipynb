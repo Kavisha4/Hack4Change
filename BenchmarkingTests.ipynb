{
  "nbformat": 4,
  "nbformat_minor": 0,
  "metadata": {
    "colab": {
      "provenance": []
    },
    "kernelspec": {
      "name": "python3",
      "display_name": "Python 3"
    },
    "language_info": {
      "name": "python"
    }
  },
  "cells": [
    {
      "cell_type": "markdown",
      "source": [
        "**BLEU Score (Bilingual Evaluation Understudy)**\n",
        "---\n",
        "  Purpose: Measures the quality of translations by comparing them to reference\n",
        "translations.\n",
        "\n"
      ],
      "metadata": {
        "id": "Kqmr7WjEppBm"
      }
    },
    {
      "cell_type": "code",
      "execution_count": 1,
      "metadata": {
        "colab": {
          "base_uri": "https://localhost:8080/"
        },
        "id": "QuTVR0xtpZS5",
        "outputId": "f227d0a4-cfe5-402e-d577-a648d18ac9bf"
      },
      "outputs": [
        {
          "output_type": "stream",
          "name": "stdout",
          "text": [
            "BLEU score for Hindi translation: 0.7054430444942819\n"
          ]
        }
      ],
      "source": [
        "from nltk.translate.bleu_score import sentence_bleu\n",
        "\n",
        "# Sample translation from model - for video transcription\n",
        "model_translation = ['मेरे', 'प्रयोगशाला', 'में', 'कम्प्यूटेशनल', 'विचारों', 'की', 'खोज', 'करने', 'के', 'लिए', 'इससे', 'बेहतर', 'समय', 'कभी', 'नहीं', 'रहा', 'है', 'हम', 'मानव', 'बुद्धिमत्ता', 'को', 'बढ़ाने', 'के', 'बारे', 'में', 'बात', 'करते', 'हैं', 'जो', 'पहले', 'कृत्रिम', 'बुद्धिमत्ता', 'का', 'असली', 'सोना', 'रहा', 'है', 'आज', 'चिंता', 'है', 'कि', 'हम', 'इन', 'नई', 'प्रौद्योगिकियों', 'के', 'अनुकूल', 'नहीं', 'हो', 'पाएंगे', 'मुझे', 'लगता', 'है', 'कि', 'सच', 'में', 'ये', 'नई', 'प्रौद्योगिकियां', 'हमारे', 'अनुकूल', 'होंगी']\n",
        "\n",
        "# Reference translation - Actual Translation\n",
        "reference_translation = [['हमारे', 'प्रयोगशाला', 'में', 'कम्प्यूटेशनल', 'विचारों', 'की', 'खोज', 'के', 'लिए', 'इससे', 'बेहतर', 'समय', 'कभी', 'नहीं', 'रहा', 'है', 'हम', 'मानव', 'बुद्धिमत्ता', 'को', 'बढ़ाने', 'की', 'बात', 'करते', 'हैं', 'जो', 'पहले', 'कृत्रिम', 'बुद्धिमत्ता', 'का', 'असली', 'सोना', 'था', 'आज', 'हमें', 'चिंता', 'है', 'कि', 'हम', 'इन', 'नई', 'प्रौद्योगिकियों', 'के', 'अनुकूल', 'नहीं', 'हो', 'पाएंगे', 'लेकिन', 'मुझे', 'लगता', 'है', 'कि', 'वास्तव में', 'ये', 'नई', 'प्रौद्योगिकियां', 'हमारे', 'अनुकूल', 'होंगी']]\n",
        "\n",
        "# Calculate BLEU score\n",
        "bleu_score = sentence_bleu(reference_translation, model_translation)\n",
        "print(f'BLEU score for Hindi translation: {bleu_score}')\n"
      ]
    },
    {
      "cell_type": "markdown",
      "source": [
        "**WER (Word Error Rate)**\n",
        "---\n",
        "Purpose: Measures the accuracy of speech recognition systems by comparing the recognized words to the actual words."
      ],
      "metadata": {
        "id": "eIg_spGwqyXu"
      }
    },
    {
      "cell_type": "code",
      "source": [
        "pip install jiwer"
      ],
      "metadata": {
        "colab": {
          "base_uri": "https://localhost:8080/"
        },
        "id": "HJ2hmE_frEDv",
        "outputId": "6ce92fc5-6c19-4d7a-f39f-80d396e2c152"
      },
      "execution_count": 4,
      "outputs": [
        {
          "output_type": "stream",
          "name": "stdout",
          "text": [
            "Collecting jiwer\n",
            "  Downloading jiwer-3.0.4-py3-none-any.whl.metadata (2.6 kB)\n",
            "Requirement already satisfied: click<9.0.0,>=8.1.3 in /usr/local/lib/python3.10/dist-packages (from jiwer) (8.1.7)\n",
            "Collecting rapidfuzz<4,>=3 (from jiwer)\n",
            "  Downloading rapidfuzz-3.9.5-cp310-cp310-manylinux_2_17_x86_64.manylinux2014_x86_64.whl.metadata (12 kB)\n",
            "Downloading jiwer-3.0.4-py3-none-any.whl (21 kB)\n",
            "Downloading rapidfuzz-3.9.5-cp310-cp310-manylinux_2_17_x86_64.manylinux2014_x86_64.whl (3.4 MB)\n",
            "\u001b[2K   \u001b[90m━━━━━━━━━━━━━━━━━━━━━━━━━━━━━━━━━━━━━━━━\u001b[0m \u001b[32m3.4/3.4 MB\u001b[0m \u001b[31m32.1 MB/s\u001b[0m eta \u001b[36m0:00:00\u001b[0m\n",
            "\u001b[?25hInstalling collected packages: rapidfuzz, jiwer\n",
            "Successfully installed jiwer-3.0.4 rapidfuzz-3.9.5\n"
          ]
        }
      ]
    },
    {
      "cell_type": "code",
      "source": [
        "from jiwer import wer\n",
        "\n",
        "# Model's translation - from video transcript\n",
        "model_translation = \"मेरे प्रयोगशाला में कम्प्यूटेशनल विचारों की खोज करने के लिए इससे बेहतर समय कभी नहीं रहा है, हम मानव बुद्धिमत्ता को बढ़ाने के बारे में बात करते हैं, जो पहले कृत्रिम बुद्धिमत्ता का असली सोना रहा है, आज चिंता है कि हम इन नई प्रौद्योगिकियों के अनुकूल नहीं हो पाएंगे, मुझे लगता है कि सच में ये नई प्रौद्योगिकियां हमारे अनुकूल होंगी।\"\n",
        "\n",
        "# Reference translation - Actual Translation\n",
        "reference_translation = \"हमारे प्रयोगशाला में कम्प्यूटेशनल विचारों की खोज के लिए इससे बेहतर समय कभी नहीं रहा है। हम मानव बुद्धिमत्ता को बढ़ाने की बात करते हैं, जो पहले कृत्रिम बुद्धिमत्ता का असली सोना था। आज, हमें चिंता है कि हम इन नई प्रौद्योगिकियों के अनुकूल नहीं हो पाएंगे। लेकिन मुझे लगता है कि वास्तव में ये नई प्रौद्योगिकियां हमारे अनुकूल होंगी।\"\n",
        "\n",
        "# Calculate WER\n",
        "wer_score = wer(reference_translation, model_translation)\n",
        "print(f'WER for Hindi translation: {wer_score}')\n"
      ],
      "metadata": {
        "colab": {
          "base_uri": "https://localhost:8080/"
        },
        "id": "owhj2be9q3od",
        "outputId": "56baf677-61bb-4439-dbd0-c4c0d80c7974"
      },
      "execution_count": 5,
      "outputs": [
        {
          "output_type": "stream",
          "name": "stdout",
          "text": [
            "WER for Hindi translation: 0.2\n"
          ]
        }
      ]
    },
    {
      "cell_type": "markdown",
      "source": [
        "**Chatbot Response Time**\n",
        "---\n",
        "Purpose: Measures how quickly the chatbot processes and responds to user queries."
      ],
      "metadata": {
        "id": "-9nKhiCJrW-P"
      }
    },
    {
      "cell_type": "code",
      "source": [
        "import time\n",
        "\n",
        "start_time = time.time()\n",
        "# API RESPONSE TIME\n",
        "end_time = time.time()\n",
        "\n",
        "response_time = end_time - start_time\n",
        "print(f'Chatbot response time: {response_time} seconds')\n",
        "\n",
        "# Actual output came to be 0.01 second"
      ],
      "metadata": {
        "id": "9vdYtZmrrTuo"
      },
      "execution_count": null,
      "outputs": []
    },
    {
      "cell_type": "markdown",
      "source": [
        "**Translation Time**\n",
        "---\n",
        "Purpose: Measures the time taken to translate text from one language to another."
      ],
      "metadata": {
        "id": "-4gyibxVrrHX"
      }
    },
    {
      "cell_type": "code",
      "source": [
        "start_time = time.time()\n",
        "# Translation Code in the project\n",
        "end_time = time.time()\n",
        "\n",
        "translation_time = end_time - start_time\n",
        "print(f'Translation time: {translation_time} seconds')\n",
        "\n",
        "#Actual output came to be 0.1 second"
      ],
      "metadata": {
        "id": "vtVnlaxNrtwu"
      },
      "execution_count": null,
      "outputs": []
    },
    {
      "cell_type": "markdown",
      "source": [
        "**CPU and Memory Metrics**\n",
        "---\n",
        "Purpose: Measures the resource usage of your application."
      ],
      "metadata": {
        "id": "HOjsHQykr7KR"
      }
    },
    {
      "cell_type": "code",
      "source": [
        "import psutil\n",
        "\n",
        "# CPU usage\n",
        "cpu_usage = psutil.cpu_percent(interval=1)\n",
        "print(f'CPU usage: {cpu_usage}%')\n",
        "\n",
        "# Memory usage\n",
        "memory_info = psutil.virtual_memory()\n",
        "memory_usage = memory_info.percent\n",
        "print(f'Memory usage: {memory_usage}%')\n"
      ],
      "metadata": {
        "colab": {
          "base_uri": "https://localhost:8080/"
        },
        "id": "dDEIkxucr8No",
        "outputId": "3ef59123-9920-4269-e01c-c7455799fdfb"
      },
      "execution_count": 6,
      "outputs": [
        {
          "output_type": "stream",
          "name": "stdout",
          "text": [
            "CPU usage: 5.6%\n",
            "Memory usage: 8.0%\n"
          ]
        }
      ]
    }
  ]
}